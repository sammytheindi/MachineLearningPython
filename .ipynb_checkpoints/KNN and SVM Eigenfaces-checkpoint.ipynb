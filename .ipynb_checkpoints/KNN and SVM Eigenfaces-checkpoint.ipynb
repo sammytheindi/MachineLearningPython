{
 "cells": [
  {
   "cell_type": "code",
   "execution_count": 2,
   "metadata": {
    "collapsed": true
   },
   "outputs": [],
   "source": [
    "%matplotlib inline\n",
    "import matplotlib.pyplot as plt\n",
    "import numpy as np\n",
    "import seaborn as sns; sns.set()\n",
    "import cv2\n",
    "import os\n",
    "from matplotlib import pyplot as plt\n",
    "from matplotlib import animation\n",
    "from JSAnimation import IPython_display"
   ]
  },
  {
   "cell_type": "code",
   "execution_count": 13,
   "metadata": {
    "collapsed": true
   },
   "outputs": [],
   "source": [
    "path = 'C:/Users/samya/Downloads/face/face/male/test'"
   ]
  },
  {
   "cell_type": "code",
   "execution_count": 14,
   "metadata": {},
   "outputs": [
    {
     "name": "stdout",
     "output_type": "stream",
     "text": [
      "C:/Users/samya/Downloads/face/face/male/test\n",
      "[]\n",
      "['Aaron_Pena_0001.jpg', 'Aaron_Tippin_0001.jpg', 'Abdulaziz_Kamilov_0001.jpg', 'Abdul_Rahman_0001.jpg', 'Abel_Aguilar_0001.jpg', 'Aby_Har-Even_0001.jpg', 'Adam_Rich_0001.jpg', 'Adrian_Murrell_0001.jpg', 'Ahmed_Lopez_0001.jpg', 'Ahmed_Qureia_0001.jpg', 'Ahmet_Demir_0001.jpg', 'Ain_Seppik_0001.jpg', 'Akbar_Al_Baker_0001.jpg', 'Akmal_Taher_0001.jpg', 'Alan_Jackson_0001.jpg', 'Alan_Stonecipher_0001.jpg', 'Alan_Tang_Kwong-wing_0001.jpg', 'Alan_Trammell_0001.jpg', 'Alan_Zemaitis_0001.jpg', 'Alastair_Johnston_0001.jpg', 'Albaro_Recoba_0001.jpg', 'Alberto_Acosta_0001.jpg', 'Alberto_Gonzales_0001.jpg', 'Alejandro_Fernandez_0001.jpg', 'Alejandro_Gonzalez_Inarritu_0001.jpg', 'Alejandro_Lembo_0001.jpg', 'Alejandro_Lerner_0001.jpg', 'Alexandre_Vinokourov_0001.jpg', 'Alex_Cabrera_0001.jpg', 'Alex_Cejka_0001.jpg', 'Alex_Gonzalez_0001.jpg', 'Alfonso_Cuaron_0001.jpg', 'Alfonso_Soriano_0001.jpg', 'Alfredo_di_Stefano_0001.jpg', 'Alfredo_Pena_0001.jpg', 'Ali_Fallahian_0001.jpg', 'Alonzo_Mourning_0001.jpg', 'Andreas_Vinciguerra_0001.jpg', 'Andres_DAlessandro_0001.jpg', 'Andres_Manuel_Lopez_Obrador_0001.jpg', 'Andrew_Fastow_0001.jpg', 'Andrew_Gilligan_0001.jpg', 'Andrew_Jarecki_0001.jpg', 'Andrew_Sabey_0001.jpg', 'Andre_Bucher_0001.jpg', 'Andre_Smith_0001.jpg', 'Andrzej_Tyszkiewicz_0001.jpg', 'Andy_Garcia_0001.jpg', 'Andy_Griffith_0001.jpg', 'Andy_Perez_0001.jpg', 'Andy_Wisecarver_0001.jpg', 'Angel_Maza_0001.jpg', 'Anthony_Corso_0001.jpg', 'Anthony_Ervin_0001.jpg', 'Anthony_Pico_0001.jpg', 'Anthony_Pisciotti_0001.jpg', 'Anton_Balasingham_0001.jpg', 'Armando_Avila_Panchame_0001.jpg', 'Armando_Calderon_Sol_0001.jpg', 'Arnold_Scott_0001.jpg', 'Arthur_Johnson_0001.jpg', 'Arthur_Martinez_0001.jpg', 'Artieas_Shanks_0001.jpg', 'Art_Cooper_0001.jpg', 'Art_Lopez_0001.jpg', 'Ascencion_Barajas_0001.jpg', 'Ashraf_Alasmar_0001.jpg', 'Baburam_Bhattari_0001.jpg', 'Bak_Chang-Ryun_0001.jpg', 'Barry_Hinson_0001.jpg', 'Bart_Hendricks_0001.jpg', 'Barzan_al-Tikriti_0001.jpg', 'BB_King_0001.jpg', 'Benito_Santiago_0001.jpg', 'Benjamin_Franklin_0001.jpg', 'Ben_Broussard_0001.jpg', 'Ben_Chandler_0001.jpg', 'Ben_Cohen_0001.jpg', 'Ben_Davis_0001.jpg', 'Ben_Lee_0001.jpg', 'Billy_Bob_Thornton_0001.jpg', 'Billy_Donovan_0001.jpg', 'Billy_Gilman_0001.jpg', 'Billy_Joel_0001.jpg', 'Bill_Butler_0001.jpg', 'Bill_Byrne_0001.jpg', 'Bill_Curry_0001.jpg', 'Bill_Guerin_0001.jpg', 'Bill_Kollar_0001.jpg', 'Bill_OReilly_0001.jpg', 'Bill_Pryor_0001.jpg', 'Bill_Self_0001.jpg', 'Bill_Stein_0001.jpg', 'Bill_Walton_0001.jpg', 'Bing_Crosby_0001.jpg', 'BJ_Habibie_0001.jpg', 'Bobby_Kielty_0001.jpg', 'Bob_Bowlsby_0001.jpg', 'Bob_Cantrell_0001.jpg', 'Bob_Guccione_0001.jpg', 'Bob_Hartley_0001.jpg', 'Bob_Iger_0001.jpg', 'Bob_Krueger_0001.jpg', 'Bob_Melvin_0001.jpg', 'Bob_Newhart_0001.jpg', 'Bob_Sulkin_0001.jpg', 'Boris_Jordan_0001.jpg', 'Brad_Banks_0001.jpg', 'Brad_Pitt_0001.jpg', 'Brandon_Hammond_0001.jpg', 'Brandon_Robinson_0001.jpg', 'Brandon_Spann_0001.jpg', 'Brendan_Gaughan_0001.jpg', 'Brendan_Stai_0001.jpg', 'Brent_Coles_0001.jpg', 'Brett_Boone_0001.jpg', 'Brett_Hawke_0001.jpg', 'Brian_Billick_0001.jpg', 'Brian_Cook_0001.jpg', 'Brian_Henson_0001.jpg', 'Brian_Jordan_0001.jpg', 'Brian_Kerr_0001.jpg', 'Brian_Olson_0001.jpg', 'Brian_Schneider_0001.jpg', 'Brian_Williams_0001.jpg', 'Bruce_Paltrow_0001.jpg', 'Bryan_Chui_0001.jpg', 'Bryce_Carmine_0001.jpg', 'Buck_Rodgers_0001.jpg', 'Carlos_Alberto_Parreira_0001.jpg', 'Carlos_Arroyo_0001.jpg', 'Carlos_Beltran_0001.jpg', 'Carlos_Juarez_0001.jpg', 'Carlos_Paternina_0001.jpg', 'Casey_Mears_0001.jpg', 'Cass_Ballenger_0001.jpg', 'Chang_Jae_On_0001.jpg', 'Chan_Choi_0001.jpg', 'Charles_Cope_0001.jpg', 'Charles_Ingram_0001.jpg', 'Charles_Lebois_0001.jpg', 'Charles_Pickering_0001.jpg', 'Charles_Rogers_0001.jpg', 'Charlie_Coles_0001.jpg', 'Charlie_Deane_0001.jpg', 'Charlie_Garner_0001.jpg', 'Chawki_Armali_0001.jpg', 'Chin-Hui_Tsao_0001.jpg', 'Chip_Knight_0001.jpg', 'Cho_Myung-kyun_0001.jpg', 'Christian_Bale_0001.jpg', 'Christian_Lirette_0001.jpg', 'Christian_Patino_0001.jpg', 'Christopher_Amolsch_0001.jpg', 'Christopher_Speer_0001.jpg', 'Christopher_Whittle_0001.jpg', 'Chris_Cirino_0001.jpg', 'Chris_Columbus_0001.jpg', 'Chris_Cookson_0001.jpg', 'Chris_Cornell_0001.jpg', 'Chris_Crocker_0001.jpg', 'Chris_Hernandez_0001.jpg', 'Chris_Kolanas_0001.jpg', 'Chris_Moore_0001.jpg', 'Chris_Simon_0001.jpg', 'Chris_Thomas_0001.jpg', 'Claude_Jorda_0001.jpg', 'Claudio_Abbado_0001.jpg', 'Clemente_de_la_Vega_0001.jpg', 'Clifford_Robinson_0001.jpg', 'Cliff_Ellis_0001.jpg', 'Clint_Howard_0001.jpg', 'Colin_Campbell_0001.jpg', 'Colin_Cowie_0001.jpg', 'Corey_Maggette_0001.jpg', 'Cosmo_Iacavazzi_0001.jpg', 'Craig_David_0001.jpg', 'Craig_Doblin_0001.jpg', 'Craig_Fitzgibbon_0001.jpg', 'Craig_OClair_0001.jpg', 'Craig_Wilson_0001.jpg', 'Cristiano_da_Matta_0001.jpg', 'Curtis_Joseph_0001.jpg', 'Curtis_Rodriguez_0001.jpg', 'Curt_Weldon_0001.jpg', 'Damarius_Bilbo_0001.jpg', 'Damon_Dash_0001.jpg', 'Daniell_Sunjata_0001.jpg', 'Daniel_Bruehl_0001.jpg', 'Daniel_Coats_0001.jpg', 'Daniel_Comisso_Urdaneta_0001.jpg', 'Daniel_Ortega_0001.jpg', 'Daniel_Osorno_0001.jpg', 'Daniel_Pearl_0001.jpg', 'Daniel_Rouse_0001.jpg', 'Daniel_Zelman_0001.jpg', 'Danny_Avalon_0001.jpg', 'Danny_Elfman_0001.jpg', 'Dan_Kellner_0001.jpg', 'Dan_LaCoutre_0001.jpg', 'Dan_Monson_0001.jpg', 'Dan_Quayle_0001.jpg', 'Dariusz_Michalczewski_0001.jpg', 'Darko_Milicic_0001.jpg', 'Darrell_Royal_0001.jpg', 'Darren_Campel_0001.jpg', 'Daryl_Sabara_0001.jpg', 'Dave_Lewis_0001.jpg', 'Dave_McNealey_0001.jpg', 'Dave_Potter_0001.jpg', 'Dave_Robertson_0001.jpg', 'Dave_Tucker_0001.jpg', 'David_Blaine_0001.jpg', 'David_Braley_0001.jpg', 'David_Brent_0001.jpg', 'David_Collenette_0001.jpg', 'David_Dewhurst_0001.jpg', 'David_Eldon_0001.jpg', 'David_Hanson_0001.jpg', 'David_Howard_0001.jpg', 'David_Modell_0001.jpg', 'David_Oh_0001.jpg', 'David_Rivkin_Jr_0001.jpg', 'David_Siegel_0001.jpg', 'David_Welch_0001.jpg', 'David_Westerfield_0001.jpg', 'David_Zeplowitz_0001.jpg', 'Davis_Love_III_0001.jpg', 'Dean_Barker_0001.jpg', 'Dean_Jacek_0001.jpg', 'Denis_Fassou-Nguesso_0001.jpg', 'Deniz_Baykal_0001.jpg', 'Dennis_Johnson_0001.jpg', 'Dennis_Miller_0001.jpg', 'Denys_Arcand_0001.jpg', 'Derrick_Rodgers_0001.jpg', 'Desmon_Farmer_0001.jpg', 'Dick_Bennett_0001.jpg', 'Dick_Devine_0001.jpg', 'Dionyssis_Georgiadis_0001.jpg', 'Djabir_Said-Guerni_0001.jpg', 'Donald_Carty_0001.jpg', 'Donnie_Brennan_0001.jpg', 'Don_Boudria_0001.jpg', 'Don_Carcieri_0001.jpg', 'Don_Flanagan_0001.jpg', 'Don_Henley_0001.jpg', 'Don_Hewitt_0001.jpg', 'Douglas_Faneuil_0001.jpg', 'Douglas_Meester_0001.jpg', 'Doug_Moe_0001.jpg', 'Doug_Wilson_0001.jpg', 'Dudley_Rogers_0001.jpg', 'Dustan_Mohr_0001.jpg', 'Dustin_Brown_0001.jpg', 'Dustin_Hoffman_0001.jpg', 'Dusty_Baker_0001.jpg', 'Dwayne_Wade_0001.jpg', 'Earl_Counter_0001.jpg', 'Edgar_Savisaar_0001.jpg', 'Eduardo_Fischer_0001.jpg', 'Edward_Egan_0001.jpg', 'Edward_Seaga_0001.jpg', 'Ed_Rendell_0001.jpg', 'Ed_Wade_0001.jpg', 'Efrain_Rios_Montt_0001.jpg', 'Eladio_Larez_0001.jpg', 'Eli_Rosenbaum_0001.jpg', 'Eli_Stutsman_0001.jpg', 'Elmar_Brok_0001.jpg', 'Eloy_Gutierrez_0001.jpg', 'Elvis_Stojko_0001.jpg', 'Enos_Slaughter_0001.jpg', 'Enrique_Iglesias_0001.jpg', 'Erick_Barkley_0001.jpg', 'Eric_Bana_0001.jpg', 'Eric_Daze_0001.jpg', 'Eric_Lloyd_0001.jpg', 'Eric_Ryan_Donnelly_0001.jpg', 'Eric_Shinseki_0001.jpg', 'Eric_Wedge_0001.jpg', 'Ernie_Grunfeld_0001.jpg', 'Ernie_Preate_0001.jpg', 'Eugene_Melnyk_0001.jpg', 'Eugene_Teslovic_0001.jpg', 'Evan_Marriott_0001.jpg', 'Evgeni_Plushenko_0001.jpg', 'Ewan_McGregor_0001.jpg', 'Faisal_Iqbal_0001.jpg', 'Farouk_Kaddoumi_0001.jpg', 'Fazal-ur-Rehman_0001.jpg', 'Feliciano_Lopez_0001.jpg', 'Felix_Doh_0001.jpg', 'Felix_Sanchez_0001.jpg', 'Fernando_Alonso_0001.jpg', 'Fernando_Hierro_0001.jpg', 'Fernando_Sanz_0001.jpg', 'Fernando_Valenzuela_0001.jpg', 'Festus_Mogae_0001.jpg', 'Filippo_Volandri_0001.jpg', 'Francisco_Maturana_0001.jpg', 'Francis_Collins_0001.jpg', 'Francis_Ricciardone_0001.jpg', 'Francois_Pienaar_0001.jpg', 'Franco_Cangele_0001.jpg', 'Frank_Abagnale_Jr_0001.jpg', 'Frank_Bell_0001.jpg', 'Frank_Coraci_0001.jpg', 'Frank_Hsieh_0001.jpg', 'Frank_Marshall_0001.jpg', 'Frank_Schmoekel_0001.jpg', 'Frank_Shea_0001.jpg', 'Frank_Wycheck_0001.jpg', 'Freddy_Vasques_Kinchokpe_0001.jpg', 'Frederick_Madden_0001.jpg', 'Fred_Durst_0001.jpg', 'Fred_Huff_0001.jpg', 'Fred_Swan_0001.jpg', 'Gabriel_Farhi_0001.jpg', 'Garth_Drabinsky_0001.jpg', 'Gary_Bauer_0001.jpg', 'Gary_Bettman_0001.jpg', 'Gary_Gero_0001.jpg', 'Gary_Marshall_0001.jpg', 'Gary_Paer_0001.jpg', 'Gaston_Gaudio_0001.jpg', 'Gavyn_Davies_0001.jpg', 'Gene_Hackman_0001.jpg', 'Gene_Orza_0001.jpg', 'Geoffrey_Davis_0001.jpg', 'Geoffrey_Rush_0001.jpg', 'George_Blaney_0001.jpg', 'George_Lucas_0001.jpg', 'George_Plimpton_0001.jpg', 'Geovani_Lapentti_0001.jpg', 'Geraldo_Rivera_0001.jpg', 'Gerard_Butler_0001.jpg', 'Gerrit_Zalm_0001.jpg', 'Ghassan_Elashi_0001.jpg', 'Gholamreza_Aghazadeh_0001.jpg', 'Giancarlo_Fisichella_0001.jpg', 'Gianni_Agnelli_0001.jpg', 'Giuseppe_Morchio_0001.jpg', 'Glenn_Rivers_0001.jpg', 'Glenn_Tilton_0001.jpg', 'Glen_Clark_0001.jpg', 'Glen_Sather_0001.jpg', 'Goran_Zivkovic_0001.jpg', 'Gordon_Cooper_0001.jpg', 'Gordon_Lightfoot_0001.jpg', 'Graciano_Rocchigiani_0001.jpg', 'Graeme_Smith_0001.jpg', 'Graham_Bentley_0001.jpg', 'Gregorio_Rosal_0001.jpg', 'Gregory_Peck_0001.jpg', 'Gregor_Gysi_0001.jpg', 'Greg_Kinnear_0001.jpg', 'Greg_Kinsey_0001.jpg', 'Guillaume_Cannet_0001.jpg', 'Guillermo_Ruiz_Polanco_0001.jpg', 'Gustavo_Franco_0001.jpg', 'Gus_Frerotte_0001.jpg', 'Habib_Hisham_0001.jpg', 'Hamid_Efendi_0001.jpg', 'Hamid_Reza_Asefi_0001.jpg', 'Hank_Azaria_0001.jpg', 'Hank_McKinnell_0001.jpg', 'Harold_Scott_0001.jpg', 'Harvey_Wachsman_0001.jpg', 'Hector_Grullon_0001.jpg', 'Hector_Mitelman_0001.jpg', 'Helmut_Panke_0001.jpg', 'Henning_Scherf_0001.jpg', 'Henry_Castellanos_0001.jpg', 'Henry_Hilow_0001.jpg', 'Herbert_Haupt_0001.jpg', 'Herb_Dhaliwal_0001.jpg', 'Herb_Ritts_0001.jpg', 'Herman_Edwards_0001.jpg', 'Herman_Moore_0001.jpg', 'Hermes_Gamonal_0001.jpg', 'Hideki_Sato_0001.jpg', 'Hidetoshi_Nakata_0001.jpg', 'Hikmat_al-Azzawi_0001.jpg', 'Himmler_Rebu_0001.jpg', 'Hitoshi_Tanaka_0001.jpg', 'Horace_Newcomb_0001.jpg', 'Howard_Ross_0001.jpg', 'Howard_Stern_0001.jpg', 'Howard_Wilkinson_0001.jpg', 'Huang_Suey-Sheng_0001.jpg', 'Huan_Chung_Yi_0001.jpg', 'Hubie_Brown_0001.jpg', 'Hugh_Carey_0001.jpg', 'Hugh_Hefner_0001.jpg', 'Hugo_Conte_0001.jpg', 'Humberto_Coelho_0001.jpg', 'Hussam_Mohammed_Amin_0001.jpg', 'Hussein_Malik_0001.jpg', 'Hu_Maoyuan_0001.jpg', 'Hwang_Doo-yun_0001.jpg', 'Iain_Richmond_0001.jpg', 'Ian_Campbell_0001.jpg', 'Ian_Knop_0001.jpg', 'Ian_Smith_0001.jpg', 'Ibrahim_Al-Marashi_0001.jpg', 'Idi_Amin_0001.jpg', 'Ignatius_Wang_0001.jpg', 'Ilan_Goldfajn_0001.jpg', 'Ilie_Nastase_0001.jpg', 'Imran_Khan_0001.jpg', 'Ion_Iliescu_0001.jpg', 'Ion_Tiriac_0001.jpg', 'Ira_Einhorn_0001.jpg', 'Irv_Nathan_0001.jpg', 'Irwan_Fadzi_Idris_0001.jpg', 'Ismail_Cem_0001.jpg', 'Ismail_Khan_0001.jpg', 'Itamar_Franco_0001.jpg', 'Jacky_Cheung_0001.jpg', 'Jack_Osbourne_0001.jpg', 'Jacob_Frenkel_0001.jpg', 'Jafar_Umar_Thalib_0001.jpg', 'Jaime_Orti_0001.jpg', 'Jakob_Kellenberger_0001.jpg', 'Jalen_Rose_0001.jpg', 'James_Baker_0001.jpg', 'James_Hill_0001.jpg', 'James_Hoffa_0001.jpg', 'James_Layug_0001.jpg', 'James_May_0001.jpg', 'James_Meeks_0001.jpg', 'James_Roberts_0001.jpg', 'James_Wattana_0001.jpg', 'James_Watt_0001.jpg', 'Jamie_Cooke_0001.jpg', 'Jamie_Martin_0001.jpg', 'Jamie_Olis_0001.jpg', 'Jamir_Miller_0001.jpg', 'Jan_Paul_Miller_0001.jpg', 'Jan_Petersen_0001.jpg', 'Jan_van_Breda_Kolff_0001.jpg', 'Jaromir_Jagr_0001.jpg', 'Jason_Kapono_0001.jpg', 'Jason_Mewes_0001.jpg', 'Jason_Priestley_0001.jpg', 'Javier_Delgado_0001.jpg', 'Javier_Saviola_0001.jpg', 'Javier_Zanetti_0001.jpg', 'Jeff_Dederian_0001.jpg', 'Jeff_Feldman_0001.jpg', 'Jeff_Roehm_0001.jpg', 'Jeremy_Wotherspoon_0001.jpg', 'Jerome_Jenkins_0001.jpg', 'Jerry_Bruckheimer_0001.jpg', 'Jerry_Jones_0001.jpg', 'Jerry_Seinfeld_0001.jpg', 'Jesus_Cardenal_0001.jpg', 'Jimmy_Iovine_0001.jpg', 'Jimmy_Smits_0001.jpg', 'Jim_Abbott_0001.jpg', 'Jim_Anderson_0001.jpg', 'Jim_Bollman_0001.jpg', 'Jim_Bunning_0001.jpg', 'Jim_Cantalupo_0001.jpg', 'Jim_Freudenberg_0001.jpg', 'Jim_Greenwood_0001.jpg', 'Jim_Hendry_0001.jpg', 'Jim_Kelly_0001.jpg', 'Jim_Leach_0001.jpg', 'Jim_Piper_0001.jpg', 'Jim_Sterk_0001.jpg', 'Jim_Thome_0001.jpg', 'Jim_Zorn_0001.jpg', 'Joao_Rocha_0001.jpg', 'Joaquim_Levy_0001.jpg', 'Jody_Richards_0001.jpg', 'Joe_Friedberg_0001.jpg', 'Joe_Mantegna_0001.jpg', 'Joe_Mendes_0001.jpg', 'Joe_Metz_0001.jpg', 'Joe_Pantoliano_0001.jpg', 'Johnnie_Lynn_0001.jpg', 'Johnny_Benson_0001.jpg', 'Johnny_Hallyday_0001.jpg', 'Johnny_Htu_0001.jpg', 'John_Barnett_0001.jpg', 'John_Belushi_0001.jpg', 'John_Bond_0001.jpg', 'John_Connolly_0001.jpg', 'John_Darby_0001.jpg', 'John_Eastman_0001.jpg', 'John_Ferguson_0001.jpg', 'John_Geoghan_0001.jpg', 'John_Goold_0001.jpg', 'John_Gordnick_0001.jpg', 'John_Gruden_0001.jpg', 'John_Hartson_0001.jpg', 'John_Lynch_0001.jpg', 'John_Mabry_0001.jpg', 'John_Moxley_0001.jpg', 'John_Nash_0001.jpg', 'John_Paul_DeJoria_0001.jpg', 'John_Robbins_0001.jpg', 'John_Starks_0001.jpg', 'John_Sweeney_0001.jpg', 'Jonathan_Fine_0001.jpg', 'Jonathan_Schroeder_0001.jpg', 'Jonathan_Woodgate_0001.jpg', 'Jon_Constance_0001.jpg', 'Jon_Stewart_0001.jpg', 'Jorge_Marquez-Ruarte_0001.jpg', 'Jorge_Quiroga_0001.jpg', 'Jorma_Huhtala_0001.jpg', 'Joseph_Fiennes_0001.jpg', 'Joseph_Ganim_0001.jpg', 'Joseph_Hoy_0001.jpg', 'Joseph_Nacchio_0001.jpg', 'Jose_Canseco_Sr_0001.jpg', 'Jose_Carlo_Fernandez_0001.jpg', 'Jose_Lopez_Beltran_0001.jpg', 'Jose_Luis_Chilavert_0001.jpg', 'Jose_Santos_0001.jpg', 'Joshua_Davey_0001.jpg', 'Joshua_Gracin_0001.jpg', 'Josh_Evans_0001.jpg', 'Josh_Kronfeld_0001.jpg', 'Joxel_Garcia_0001.jpg', 'JT_Snow_0001.jpg', 'Juan_Roman_Carrasco_0001.jpg', 'Juan_Sanchez_0001.jpg', 'Judd_Davies_0001.jpg', 'Juergen_Braehmer_0001.jpg', 'Julian_Battle_0001.jpg', 'Kaisser_Bazan_0001.jpg', 'Kalid_Kaid_0001.jpg', 'Kamel_Morjane_0001.jpg', 'Karl-Heinz_Rummenigge_0001.jpg', 'Keith_Lowen_0001.jpg', 'Keith_Olbermann_0001.jpg', 'Keith_Rodriguez_0001.jpg', 'Keith_Snyder_0001.jpg', 'Keith_Tyson_0001.jpg', 'Keith_Van_Horn_0001.jpg', 'Kelsey_Grammer_0001.jpg', 'Kenneth_Brill_0001.jpg', 'Kenneth_Dam_0001.jpg', 'Kenneth_Reichert_0001.jpg', 'Kenny_Chesney_0001.jpg', 'Kent_McCord_0001.jpg', 'Ken_Dorsey_0001.jpg', 'Ken_Wharfe_0001.jpg', 'Kevin_Borseth_0001.jpg', 'Kevin_Crane_0001.jpg', 'Kevin_Harvick_0001.jpg', 'Kevin_Hearn_0001.jpg', 'Kevin_James_0001.jpg', 'Kevin_Nealon_0001.jpg', 'Kevin_Satterfield_0001.jpg', 'Khaled_Sawalhi_0001.jpg', 'Khalid_Qazi_0001.jpg', 'Kim_Dong-tae_0001.jpg', 'Kim_Hong-gul_0001.jpg', 'Kim_Su_Nam_0001.jpg', 'King_Gyanendra_0001.jpg', 'Kitin_Munoz_0001.jpg', 'Kit_Bond_0001.jpg', 'Krishna_Bhadur_Mahara_0001.jpg', 'Kurt_Hellstrom_0001.jpg', 'Kwame_Kilpatrick_0001.jpg', 'Kweisi_Mfume_0001.jpg', 'Kyle_McLaren_0001.jpg', 'Lachlan_Murdoch_0001.jpg', 'Landon_Donovan_0001.jpg', 'Lane_Odom_0001.jpg', 'Larry_Beinfest_0001.jpg', 'Larry_Campbell_0001.jpg', 'Larry_Donald_0001.jpg', 'Larry_Flynt_0001.jpg', 'Larry_Greene_0001.jpg', 'Larry_Nichols_0001.jpg', 'Larry_Pleau_0001.jpg', 'Larry_Ralston_0001.jpg', 'Laurence_Fishburne_0001.jpg', 'Lawrence_Roberts_0001.jpg', 'Leandro_Garcia_0001.jpg', 'Lenny_Kravitz_0001.jpg', 'Leonardo_Del_Vecchio_0001.jpg', 'Leon_Silver_0001.jpg', 'Leuris_Pupo_0001.jpg', 'Lincoln_Chafee_0001.jpg', 'Linn_Thornton_0001.jpg', 'Lionel_Hampton_0001.jpg', 'Liu_Ye_0001.jpg', 'Li_Ka-shing_0001.jpg', 'Lope_Mendoza_0001.jpg', 'Lou_Ye_0001.jpg', 'Luciano_Bovicelli_0001.jpg', 'Lucio_Angulo_0001.jpg', 'Luis_Berrondo_0001.jpg', 'Luther_Htu_0001.jpg', 'Malcolm_Glazer_0001.jpg', 'Malcolm_Jamal_Warner_0001.jpg', 'Malik_Mahmud_0001.jpg', 'Manuela_Montebrun_0001.jpg', 'Marco_Archer_Cardoso_Moreira_0001.jpg', 'Marco_Pantani_0001.jpg', 'Marcus_Allen_0001.jpg', 'Marc_Bulger_0001.jpg', 'Mariano_Zabaleta_0001.jpg', 'Marion_Barry_0001.jpg', 'Mario_Gallegos_0001.jpg', 'Mario_Lobo_Zagallo_0001.jpg', 'Mario_Vasquez_Rana_0001.jpg', 'Mark_Bellhorn_0001.jpg', 'Mark_Broxmeyer_0001.jpg', 'Mark_Butcher_0001.jpg', 'Mark_Foley_0001.jpg', 'Mark_Gangloff_0001.jpg', 'Mark_Hanson_0001.jpg', 'Mark_Hogan_0001.jpg', 'Mark_Kelly_0001.jpg', 'Mark_Komara_0001.jpg', 'Mark_Leno_0001.jpg', 'Mark_McClellan_0001.jpg', 'Mark_Podlesny_0001.jpg', 'Mark_Redman_0001.jpg', 'Mark_Rosenbaum_0001.jpg', 'Mark_Sacco_0001.jpg', 'Mark_Stuart_0001.jpg', 'Marlon_Devonish_0001.jpg', 'Martin_Boryczewski_0001.jpg', 'Martin_Burnham_0001.jpg', 'Martin_Frost_0001.jpg', 'Martin_Gecht_0001.jpg', 'Martin_Howard_0001.jpg', 'Martin_ONeill_0001.jpg', 'Martin_Rodriguez_0001.jpg', 'Masaru_Hayami_0001.jpg', 'Matthew_Ouimet_0001.jpg', 'Matt_Anderson_0001.jpg', 'Matt_Roney_0001.jpg', 'Matt_Siebrandt_0001.jpg', 'Maurice_Cheeks_0001.jpg', 'Max_Biaggi_0001.jpg', 'Max_Mosley_0001.jpg', 'Mel_Karmazin_0001.jpg', 'Michael_Arif_0001.jpg', 'Michael_Bouchard_0001.jpg', 'Michael_Brandon_0001.jpg', 'Michael_Clarke_Duncan_0001.jpg', 'Michael_Fitzgerald_0001.jpg', 'Michael_Frayn_0001.jpg', 'Michael_Hagee_0001.jpg', 'Michael_Hoffa_0001.jpg', 'Michael_J_Fox_0001.jpg', 'Michael_Kirby_0001.jpg', 'Michael_Kors_0001.jpg', 'Michael_Linscott_0001.jpg', 'Michael_Lopez-Alegria_0001.jpg', 'Michael_Pfleger_0001.jpg', 'Michael_Piuze_0001.jpg', 'Michael_Sheehan_0001.jpg', 'Michael_Shelby_0001.jpg', 'Michael_Taylor_0001.jpg', 'Michalis_Chrisohoides_0001.jpg', 'Michele_Placido_0001.jpg', 'Mickey_Gilley_0001.jpg', 'Miguel_Jimenez_0001.jpg', 'Mika_Hakkinen_0001.jpg', 'Mike_Bryan_0001.jpg', 'Mike_Eskew_0001.jpg', 'Mike_Flanagan_0001.jpg', 'Mike_Johanns_0001.jpg', 'Mike_Leach_0001.jpg', 'Mike_Samp_0001.jpg', 'Mike_Sherman_0001.jpg', 'Mike_Slive_0001.jpg', 'Mike_Smith_0001.jpg', 'Mike_Stefanik_0001.jpg', 'Mike_Sweeney_0001.jpg', 'Mike_Webster_0001.jpg', 'Mikhail_Shvydkoi_0001.jpg', 'Mile_Mrksic_0001.jpg', 'Milton_Berle_0001.jpg', 'Milton_Wynants_0001.jpg', 'Milt_Heflin_0001.jpg', 'Mitar_Rasevic_0001.jpg', 'Mitchell_Swartz_0001.jpg', 'Mitch_Kupchak_0001.jpg', 'Mladen_Naletilic_0001.jpg', 'Mohamed_Hammam_0001.jpg', 'Mohamed_Seineldin_0001.jpg', 'Mohammad_Aktar_0001.jpg', 'Mohammed_Al_Hindi_0001.jpg', 'Mohammed_Dahlan_0001.jpg', 'Monte_Kiffin_0001.jpg', 'Morris_Dees_0001.jpg', 'Muhammad_Ibrahim_Bilal_0001.jpg', 'Muwafak_al-Ani_0001.jpg', 'Najib_al-Salhi_0001.jpg', 'Nathan_Doudney_0001.jpg', 'Neil_Moritz_0001.jpg', 'Nestor_Gonzalez_0001.jpg', 'Niall_Connolly_0001.jpg', 'Nicholoas_DiMarzio_0001.jpg', 'Nick_Cassavetes_0001.jpg', 'Nick_Price_0001.jpg', 'Nick_Rahall_0001.jpg', 'Nicola_Bono_0001.jpg', 'Nigel_Redden_0001.jpg', 'Nikolay_Davydenko_0001.jpg', 'Noel_Forgeard_0001.jpg', 'Noor_Mohammed_0001.jpg', 'Norbert_van_Heyst_0001.jpg', 'Oleg_Romantsev_0001.jpg', 'Oliver_Phelps_0001.jpg', 'Oliver_Stone_0001.jpg', 'Olivier_Boulay_0001.jpg', 'Omar_el-Heib_0001.jpg', 'Oscar_de_la_Renta_0001.jpg', 'Oswald_Gruebel_0001.jpg', 'Otto_Schily_0001.jpg', 'Pablo_Khulental_0001.jpg', 'Park_Jung_Sung_0001.jpg', 'Parthiv_Patel_0001.jpg', 'Pascal_Rheaume_0001.jpg', 'Patrick_Bourrat_0001.jpg', 'Patrick_Clawsen_0001.jpg', 'Patrick_Eaves_0001.jpg', 'Patrick_Kron_0001.jpg', 'Patrik_Kristiansson_0001.jpg', 'Pat_Riley_0001.jpg', 'Paul_Celluci_0001.jpg', 'Paul_Clark_0001.jpg', 'Paul_Desmarais_0001.jpg', 'Paul_Ebert_0001.jpg', 'Paul_Farley_0001.jpg', 'Paul_Gannon_0001.jpg', 'Paul_Li_Calsi_0001.jpg', 'Paul_Lockhart_0001.jpg', 'Paul_Newman_0001.jpg', 'Paul_Reiser_0001.jpg', 'Paul_Schrader_0001.jpg', 'Paul_Wals_0001.jpg', 'Pedro_Alvarez_0001.jpg', 'Pedro_Mahecha_0001.jpg', 'Pedro_Martinez_0001.jpg', 'Percy_Gibson_0001.jpg', 'Perry_Compton_0001.jpg', 'Perry_Gibbs_0001.jpg', 'Peter_Caruana_0001.jpg', 'Peter_Fisher_0001.jpg', 'Peter_Harvey_0001.jpg', 'Peter_Holmberg_0001.jpg', 'Peter_Mackay_0001.jpg', 'Peter_Mansbridge_0001.jpg', 'Peter_Mugyeni_0001.jpg', 'Peter_Rasch_0001.jpg', 'Pete_Beaudrault_0001.jpg', 'Pete_Gillen_0001.jpg', 'Phillipe_Comtois_0001.jpg', 'Phillips_Idowu_0001.jpg', 'Phillip_Seymor_Hoffmann_0001.jpg', 'Phil_Bennett_0001.jpg', 'Phil_Cline_0001.jpg', 'Phil_Cullen_0001.jpg', 'Phil_Jackson_0001.jpg', 'Pierre_Gagnon_0001.jpg', 'Pierre_Lacroix_0001.jpg', 'Pinar_del_Rio_0001.jpg', 'Piotr_Anderszewski_0001.jpg', 'Pio_Laghi_0001.jpg', 'Porter_Goss_0001.jpg', 'Prem_Kumar_Nair_0001.jpg', 'Qais_al-Kazali_0001.jpg', 'Qazi_Hussain_Ahmed_0001.jpg', 'Qian_Qichen_0001.jpg', 'Raag_Singhal_0001.jpg', 'Rafael_Vinoly_0001.jpg', 'Rainer_Geulen_0001.jpg', 'Rainer_Gut_0001.jpg', 'Raja_Ramani_0001.jpg', 'Ralph_Fiennes_0001.jpg', 'Ramon_Ponce_de_Leon_0001.jpg', 'Randall_Terry_0001.jpg', 'Randy_Dryer_0001.jpg', 'Randy_Ferbey_0001.jpg', 'Randy_Johnson_0001.jpg', 'Raul_Castaneda_0001.jpg', 'Raul_Gonzalez_0001.jpg', 'Ray_Bradbury_0001.jpg', 'Ray_Halbritter_0001.jpg', 'Ray_Liotta_0001.jpg', 'Ray_Lucas_0001.jpg', 'Ray_Young_0001.jpg', 'Razali_Ismail_0001.jpg', 'Raza_Rabbani_0001.jpg', 'Reggie_Lewis_0001.jpg', 'Reinhard_Buetikofer_0001.jpg', 'Rey_Sanchez_0001.jpg', 'Rhett_Warrener_0001.jpg', 'Richard_Barry_0001.jpg', 'Richard_Carl_0001.jpg', 'Richard_Chamberlain_0001.jpg', 'Richard_Dreyfuss_0001.jpg', 'Richard_Jewell_0001.jpg', 'Richard_Lugar_0001.jpg', 'Richard_Parsons_0001.jpg', 'Richard_Pennington_0001.jpg', 'Richard_Ward_0001.jpg', 'Ricky_Cottrill_0001.jpg', 'Rick_Bland_0001.jpg', 'Rick_Bragg_0001.jpg', 'Rick_Caruso_0001.jpg', 'Rick_Reed_0001.jpg', 'Rick_Rickert_0001.jpg', 'Rien_Long_0001.jpg', 'Roberto_Arguelles_0001.jpg', 'Roberto_Cavalli_0001.jpg', 'Roberto_Laratro_0001.jpg', 'Roberto_Tovar_0001.jpg', 'Robert_Beck_0001.jpg', 'Robert_Douglas_0001.jpg', 'Robert_F_Kennedy_Jr_0001.jpg', 'Robert_Gallo_0001.jpg', 'Robert_Hyatt_0001.jpg', 'Robert_Kipkoech_Cheruiyot_0001.jpg', 'Robert_Lange_0001.jpg', 'Robert_Marshall_0001.jpg', 'Robert_Nardelli_0001.jpg', 'Robert_Nillson_0001.jpg', 'Robert_Vowler_0001.jpg', 'Robert_Wagner_0001.jpg', 'Robert_Weitzel_0001.jpg', 'Robin_Williams_0001.jpg', 'Rob_Moore_0001.jpg', 'Rob_Morrow_0001.jpg', 'Rodney_Dangerfield_0001.jpg', 'Rodrigo_de_la_Cerna_0001.jpg', 'Rod_Thorn_0001.jpg', 'Roger_Cook_0001.jpg', 'Roger_Grimes_0001.jpg', 'Roger_King_0001.jpg', 'Rohinton_Mistry_0001.jpg', 'Roland_Koch_0001.jpg', 'Roman_Abramovich_0001.jpg', 'Ronald_Kadish_0001.jpg', 'Ronald_White_0001.jpg', 'Ronald_Young_Jr_0001.jpg', 'Ronnie_Jagday_0001.jpg', 'Ronnie_Musgrove_0001.jpg', 'Ron_Kirk_0001.jpg', 'Ron_Zook_0001.jpg', 'Rowan_Williams_0001.jpg', 'Roy_Rogers_0001.jpg', 'Ruben_Sierra_0001.jpg', 'Rudi_Voeller_0001.jpg', 'Rudy_Tomjanovich_0001.jpg', 'Ryan_Goodman_0001.jpg', 'Sachin_Tendulkar_0001.jpg', 'Saeed_Anwar_0001.jpg', 'Saeed_Mortazavi_0001.jpg', 'Sahim_Alwan_0001.jpg', 'Sam_Gerald_0001.jpg', 'Sanjay_Gupta_0001.jpg', 'Scott_Dalton_0001.jpg', 'Scott_Dickson_0001.jpg', 'Scott_Hamilton_0001.jpg', 'Scott_Hubbard_0001.jpg', 'Scott_OGrady_0001.jpg', 'Scott_Wallach_0001.jpg', 'Scott_Yates_0001.jpg', 'Sean_Combs_0001.jpg', 'Sergei_Yastrzhembsky_0001.jpg', 'Sergei_Yushenkov_0001.jpg', 'Serge_Melac_0001.jpg', 'Serge_Tchuruk_0001.jpg', 'Seymour_Cassell_0001.jpg', 'Shafal_Mosed_0001.jpg', 'Shamai_Leibowitz_0001.jpg', 'Shane_Loux_0001.jpg', 'Shaun_Rusling_0001.jpg', 'Shigeo_Nagashima_0001.jpg', 'Shingo_Suetsugu_0001.jpg', 'Shinzo_Abe_0001.jpg', 'Sidney_Poitier_0001.jpg', 'Simon_Chalk_0001.jpg', 'SJ_Twu_0001.jpg', 'Soenarno_0001.jpg', 'Sofyan_Dawood_0001.jpg', 'Sok_An_0001.jpg', 'Solomon_Passy_0001.jpg', 'Stanley_Ho_0001.jpg', 'Stanley_Nelson_0001.jpg', 'Stan_Kasten_0001.jpg', 'Stefan_Holm_0001.jpg', 'Stefan_Tafrov_0001.jpg', 'Stephane_Rochon_0001.jpg', 'Stephane_Rousseau_0001.jpg', 'Stephen_Covey_0001.jpg', 'Stephen_Ebberharter_0001.jpg', 'Stephen_Joseph_0001.jpg', 'Stephen_Swindal_0001.jpg', 'Stephen_Webster_0001.jpg', 'Sterling_Hitchcock_0001.jpg', 'Steven_Tyler_0001.jpg', 'Steve_Alford_0001.jpg', 'Steve_Allee_0001.jpg', 'Steve_Fehr_0001.jpg', 'Steve_Karsay_0001.jpg', 'Steve_McManaman_0001.jpg', 'Steve_Nesbitt_0001.jpg', 'Steve_Patterson_0001.jpg', 'Steve_Redgrave_0001.jpg', 'Steve_Rush_0001.jpg', 'Steve_Shiver_0001.jpg', 'Steve_Stirling_0001.jpg', 'Stuart_Townsend_0001.jpg', 'Suh_Young-hoon_0001.jpg', 'Sultan_Qaboos_0001.jpg', 'Supachai_Panitchpakdi_0001.jpg', 'Svend_Aage_Jensby_0001.jpg', 'Sven_Goran_Eriksson_0001.jpg', 'Takahiro_Mori_0001.jpg', 'Takashi_Yamamoto_0001.jpg', 'Tavis_Smiley_0001.jpg', 'Taylyn_Solomon_0001.jpg', 'Tayyeb_Abdel_Rahim_0001.jpg', 'Terence_Newman_0001.jpg', 'Terrence_Kiel_0001.jpg', 'Terrence_Trammell_0001.jpg', 'Thad_Matta_0001.jpg', 'Thierry_Mariani_0001.jpg', 'Thomas_Enqvist_0001.jpg', 'Thomas_Manger_0001.jpg', 'Thomas_Wilkens_0001.jpg', 'Thor_Pedersen_0001.jpg', 'Tiago_Splitter_0001.jpg', 'Tian_Zhuang_Zhuang_0001.jpg', 'Timbul_Silaen_0001.jpg', 'Timothy_Rigas_0001.jpg', 'Tim_Curley_0001.jpg', 'Tim_Pawlenty_0001.jpg', 'Tim_Welsh_0001.jpg', 'TJ_Ford_0001.jpg', 'Toby_Keith_0001.jpg', 'Todd_MacCulloch_0001.jpg', 'Todd_Parrott_0001.jpg', 'Tomas_Enge_0001.jpg', 'Tommy_Amaker_0001.jpg', 'Tomomi_Morita_0001.jpg', 'Tom_Curley_0001.jpg', 'Tom_Gamboa_0001.jpg', 'Tom_Izzo_0001.jpg', 'Tom_Kelly_0001.jpg', 'Tom_Koenigs_0001.jpg', 'Tom_Lantos_0001.jpg', 'Tom_OBrien_0001.jpg', 'Tom_Scully_0001.jpg', 'Tom_Sizemore_0001.jpg', 'Tom_Vilsack_0001.jpg', 'Tono_Suratman_0001.jpg', 'Tony_Cummo_0001.jpg', 'Tony_Elias_0001.jpg', 'Tony_Fernandes_0001.jpg', 'Tony_LaRussa_0001.jpg', 'Tora_Takagi_0001.jpg', 'Toshi_Izawa_0001.jpg', 'Toutai_Kefu_0001.jpg', 'Troy_Hudson_0001.jpg', 'Tuncay_Sanli_0001.jpg', 'T_Boone_Pickens_0001.jpg', 'Ulrich_Kueperkoch_0001.jpg', 'Uri_Lopolianski_0001.jpg', 'Van_Hilley_0001.jpg', 'Vassilis_Xiros_0001.jpg', 'Vernon_Forrest_0001.jpg', 'Vicente_Fox_de_la_Concha_0001.jpg', 'Victor_Hanescu_0001.jpg', 'Vijay_Nambiar_0001.jpg', 'Vladimir_Meciar_0001.jpg', 'Vyacheslav_Fetisov_0001.jpg', 'Wally_Szczerbiak_0001.jpg', 'Wang_Fei_0001.jpg', 'Wayne_Brady_0001.jpg', 'Werner_Schlager_0001.jpg', 'Wilfredo_Moreno_0001.jpg', 'William_Genego_0001.jpg', 'William_Pryor_Jr_0001.jpg', 'William_Webster_0001.jpg', 'Willie_Nelson_0001.jpg', 'Will_Ofenheusle_0001.jpg', 'Wolfgang_Becker_0001.jpg', 'Wolfgang_Schneiderhan_0001.jpg', 'Xiang_Huaicheng_0001.jpg', 'Xiang_Liu_0001.jpg', 'Xiang_Xu_0001.jpg', 'Yogi_Berra_0001.jpg', 'Zach_Parise_0001.jpg']\n"
     ]
    }
   ],
   "source": [
    "i = 0\n",
    "img_struct = []\n",
    "for (path, dirs, files) in os.walk(path):\n",
    "    print(path)\n",
    "    print(dirs)\n",
    "#     for fname in files:\n",
    "#         if fname.endswith('pgm'):\n",
    "#             src = os.path.join(path, fname)\n",
    "#             #print(src)\n",
    "#             img = cv2.imread(src, 0)\n",
    "#             d1, d2 = img.shape\n",
    "#             img = img.flatten()\n",
    "#             img_struct.append(img)\n",
    "    print(files)\n",
    "    #print(\"----\")\n",
    "    i += 1\n",
    "    if i >= 3:\n",
    "        break"
   ]
  },
  {
   "cell_type": "code",
   "execution_count": 15,
   "metadata": {
    "collapsed": true
   },
   "outputs": [],
   "source": [
    "d1, d2, img_Struct = get_Images(path)"
   ]
  },
  {
   "cell_type": "code",
   "execution_count": 16,
   "metadata": {},
   "outputs": [
    {
     "data": {
      "text/plain": [
       "1000"
      ]
     },
     "execution_count": 16,
     "metadata": {},
     "output_type": "execute_result"
    }
   ],
   "source": [
    "len(img_Struct)"
   ]
  },
  {
   "cell_type": "code",
   "execution_count": 24,
   "metadata": {},
   "outputs": [
    {
     "ename": "IndexError",
     "evalue": "list index out of range",
     "output_type": "error",
     "traceback": [
      "\u001b[1;31m---------------------------------------------------------------------------\u001b[0m",
      "\u001b[1;31mIndexError\u001b[0m                                Traceback (most recent call last)",
      "\u001b[1;32m<ipython-input-24-9b2bd192b01f>\u001b[0m in \u001b[0;36m<module>\u001b[1;34m()\u001b[0m\n\u001b[1;32m----> 1\u001b[1;33m \u001b[0mface_1\u001b[0m \u001b[1;33m=\u001b[0m \u001b[0mimg_struct\u001b[0m\u001b[1;33m[\u001b[0m\u001b[1;36m0\u001b[0m\u001b[1;33m]\u001b[0m\u001b[1;33m.\u001b[0m\u001b[0mreshape\u001b[0m\u001b[1;33m(\u001b[0m\u001b[0md1\u001b[0m\u001b[1;33m,\u001b[0m\u001b[0md2\u001b[0m\u001b[1;33m)\u001b[0m\u001b[1;33m\u001b[0m\u001b[0m\n\u001b[0m",
      "\u001b[1;31mIndexError\u001b[0m: list index out of range"
     ]
    }
   ],
   "source": [
    "face_1 = img_truct[0].reshape(d1,d2)"
   ]
  },
  {
   "cell_type": "code",
   "execution_count": null,
   "metadata": {
    "collapsed": true
   },
   "outputs": [],
   "source": [
    "face_1 = img_struct[:,0].reshape(d1,d2)"
   ]
  },
  {
   "cell_type": "code",
   "execution_count": 12,
   "metadata": {
    "collapsed": true
   },
   "outputs": [],
   "source": [
    "def get_Images(path):\n",
    "    i = 0\n",
    "    img_struct = []\n",
    "    for (path, dirs, files) in os.walk(path):\n",
    "        for fname in files:\n",
    "            if fname.endswith('jpg'):\n",
    "                src = os.path.join(path, fname)\n",
    "                #print(src)\n",
    "                img = cv2.imread(src, 0)\n",
    "                d1, d2 = img.shape\n",
    "                img = img.flatten()\n",
    "                img_struct.append(img)\n",
    "    return d1,d2,img_struct"
   ]
  }
 ],
 "metadata": {
  "kernelspec": {
   "display_name": "Python 3",
   "language": "python",
   "name": "python3"
  },
  "language_info": {
   "codemirror_mode": {
    "name": "ipython",
    "version": 3
   },
   "file_extension": ".py",
   "mimetype": "text/x-python",
   "name": "python",
   "nbconvert_exporter": "python",
   "pygments_lexer": "ipython3",
   "version": "3.6.1"
  }
 },
 "nbformat": 4,
 "nbformat_minor": 2
}
