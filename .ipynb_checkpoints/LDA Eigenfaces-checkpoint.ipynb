{
 "cells": [
  {
   "cell_type": "markdown",
   "metadata": {},
   "source": [
    "# LDA facial recognition"
   ]
  },
  {
   "cell_type": "code",
   "execution_count": 72,
   "metadata": {
    "collapsed": true
   },
   "outputs": [],
   "source": [
    "%matplotlib inline\n",
    "import matplotlib.pyplot as plt\n",
    "import numpy as np\n",
    "import seaborn as sns; sns.set()\n",
    "import cv2\n",
    "import scipy as sp\n",
    "import os\n",
    "from matplotlib import pyplot as plt\n",
    "from matplotlib import animation\n",
    "from JSAnimation import IPython_display\n",
    "import sklearn\n",
    "from sklearn import decomposition\n",
    "from sklearn import datasets"
   ]
  },
  {
   "cell_type": "markdown",
   "metadata": {},
   "source": [
    "## Loading Data"
   ]
  },
  {
   "cell_type": "code",
   "execution_count": 109,
   "metadata": {
    "collapsed": true
   },
   "outputs": [],
   "source": [
    "path = 'C:/Users/samya/Downloads/orl_faces/orl_faces/Train'\n",
    "\n",
    "img_struct = []\n",
    "for (path, dirs, files) in os.walk(path):\n",
    "    #print(path)\n",
    "    #print(dirs)\n",
    "    for fname in files:\n",
    "        if fname.endswith('pgm'):\n",
    "            src = os.path.join(path, fname)\n",
    "            #print(src)\n",
    "            img = cv2.imread(src, 0)\n",
    "            d1, d2 = img.shape\n",
    "            img = img.flatten()\n",
    "            img_struct.append(img)\n",
    "\n",
    "path = 'C:/Users/samya/Downloads/orl_faces/orl_faces/Test'\n",
    "\n",
    "img_structTest = []\n",
    "for (path, dirs, files) in os.walk(path):\n",
    "    #print(path)\n",
    "    #print(dirs)\n",
    "    for fname in files:\n",
    "        if fname.endswith('pgm'):\n",
    "            src = os.path.join(path, fname)\n",
    "            #print(src)\n",
    "            img = cv2.imread(src, 0)\n",
    "            d1, d2 = img.shape\n",
    "            img = img.flatten()\n",
    "            img_structTest.append(img)"
   ]
  },
  {
   "cell_type": "code",
   "execution_count": 100,
   "metadata": {},
   "outputs": [
    {
     "name": "stdout",
     "output_type": "stream",
     "text": [
      "(10304, 360)\n",
      "(10304, 40)\n"
     ]
    }
   ],
   "source": [
    "img_struct = np.transpose(np.array(img_struct, dtype=np.float32))\n",
    "\n",
    "img_structTest = np.transpose(np.array(img_structTest, dtype=np.float32))"
   ]
  },
  {
   "cell_type": "markdown",
   "metadata": {},
   "source": [
    "# PCA"
   ]
  },
  {
   "cell_type": "code",
   "execution_count": 119,
   "metadata": {},
   "outputs": [
    {
     "name": "stdout",
     "output_type": "stream",
     "text": [
      "Training weights shape:  (360, 300)\n",
      "Test weights shape:  (40, 300)\n"
     ]
    }
   ],
   "source": [
    "# Performing PCA\n",
    "pca = decomposition.PCA(n_components = 300)\n",
    "pca.fit(img_struct)\n",
    "\n",
    "# Calculating weights for training set\n",
    "w_Train = pca.transform(img_struct)\n",
    "print('Training weights shape: ', str(w_Train.shape))\n",
    "\n",
    "# Calculating weights for test set\n",
    "w_Test = pca.transform(img_structTest)\n",
    "print('Test weights shape: ', str(w_Test.shape))"
   ]
  },
  {
   "cell_type": "code",
   "execution_count": 218,
   "metadata": {},
   "outputs": [
    {
     "data": {
      "text/plain": [
       "<matplotlib.image.AxesImage at 0x23c8186e2e8>"
      ]
     },
     "execution_count": 218,
     "metadata": {},
     "output_type": "execute_result"
    },
    {
     "data": {
      "image/png": "[encoded data removed]",
      "text/plain": [
       "<matplotlib.figure.Figure at 0x23c81582780>"
      ]
     },
     "metadata": {},
     "output_type": "display_data"
    }
   ],
   "source": [
    "# Showing eigenface to ensure method is correct\n",
    "prin_Comp = pca.components_\n",
    "\n",
    "plt.imshow(prin_Comp[0,:].reshape(d1,d2), cmap = plt.get_cmap('jet'))"
   ]
  },
  {
   "cell_type": "markdown",
   "metadata": {},
   "source": [
    "# LDA\n",
    "## Calculating Inter and Intra-Class Scatter"
   ]
  },
  {
   "cell_type": "code",
   "execution_count": 124,
   "metadata": {
    "collapsed": true
   },
   "outputs": [],
   "source": [
    "# Transpose w_Train and w_Test\n",
    "w_Train = np.transpose(w_Train)\n",
    "w_Test = np.transpose(w_Test)\n",
    "\n",
    "# Calculate global mean weights\n",
    "global_Mean = np.mean(w_Train, axis = 1)\n",
    "\n",
    "# Calculate local mean weights\n",
    "local_Mean = np.zeros(shape = (300, 40))\n",
    "k = 0\n",
    "for i in range(0, 360, 9):\n",
    "    temp_1 = np.mean(w_Train[:,i:i+9], axis = 1)\n",
    "    local_Mean[:,k] = temp_1\n",
    "    k = k + 1"
   ]
  },
  {
   "cell_type": "code",
   "execution_count": 125,
   "metadata": {
    "collapsed": true
   },
   "outputs": [],
   "source": [
    "# Calculate Intra-Class Scatter\n",
    "intra_Class = np.zeros(shape = (300, 300))\n",
    "k = 0\n",
    "for i in range(0, 360, 9):\n",
    "    temp_Faces = w_Train[:,i:i+9] - local_Mean[:, k][:, np.newaxis]\n",
    "    temp = np.matmul(temp_Faces, np.transpose(temp_Faces))\n",
    "    intra_Class = intra_Class + temp\n",
    "    k = k + 1"
   ]
  },
  {
   "cell_type": "code",
   "execution_count": 126,
   "metadata": {
    "collapsed": true
   },
   "outputs": [],
   "source": [
    "# Calculate Inter-Class Scatter \n",
    "inter_Class = np.zeros(shape = (300, 300))\n",
    "\n",
    "for i in range(40):\n",
    "    temp_Faces = local_Mean[:,i][:, np.newaxis] - global_Mean[:, np.newaxis]\n",
    "    temp = np.matmul(temp_Faces, np.transpose(temp_Faces))\n",
    "    inter_Class = inter_Class + temp\n",
    "\n",
    "inter_Class = inter_Class*9"
   ]
  },
  {
   "cell_type": "markdown",
   "metadata": {},
   "source": [
    "## Solve generalized eigenvalue problem"
   ]
  },
  {
   "cell_type": "code",
   "execution_count": 127,
   "metadata": {
    "collapsed": true
   },
   "outputs": [],
   "source": [
    "# Solve generalized eigenvalue problem\n",
    "V,D = sp.sparse.linalg.eigs(inter_Class, k = 39, M = intra_Class)\n",
    "V = np.absolute(V)"
   ]
  },
  {
   "cell_type": "code",
   "execution_count": 128,
   "metadata": {},
   "outputs": [
    {
     "data": {
      "text/plain": [
       "<Container object of 39 artists>"
      ]
     },
     "execution_count": 128,
     "metadata": {},
     "output_type": "execute_result"
    },
    {
     "data": {
      "image/png": "[encoded data removed]",
      "text/plain": [
       "<matplotlib.figure.Figure at 0x23c8225ce10>"
      ]
     },
     "metadata": {},
     "output_type": "display_data"
    }
   ],
   "source": [
    "xi = [i for i in range(len(V))]\n",
    "plt.bar(xi, V)"
   ]
  },
  {
   "cell_type": "markdown",
   "metadata": {},
   "source": [
    "## Compute weights"
   ]
  },
  {
   "cell_type": "code",
   "execution_count": 129,
   "metadata": {},
   "outputs": [
    {
     "name": "stdout",
     "output_type": "stream",
     "text": [
      "(300, 360)\n",
      "(300, 39)\n"
     ]
    }
   ],
   "source": [
    "print(w_Train.shape)\n",
    "print(D.shape)"
   ]
  },
  {
   "cell_type": "code",
   "execution_count": 138,
   "metadata": {},
   "outputs": [
    {
     "name": "stdout",
     "output_type": "stream",
     "text": [
      "(39, 360)\n",
      "(39, 40)\n"
     ]
    }
   ],
   "source": [
    "# Weights for LDA\n",
    "w_TrainLDA = np.matmul(np.transpose(w_Train), D)\n",
    "w_TestLDA = np.matmul(np.transpose(w_Test), D)\n",
    "\n",
    "w_TrainLDA = np.transpose(w_TrainLDA)\n",
    "w_TestLDA = np.transpose(w_TestLDA)\n",
    "np.transpose(w_TestLDA)\n",
    "print(w_TrainLDA.shape)\n",
    "print(w_TestLDA.shape)"
   ]
  },
  {
   "cell_type": "markdown",
   "metadata": {},
   "source": [
    "## Testing the Classifier"
   ]
  },
  {
   "cell_type": "code",
   "execution_count": 182,
   "metadata": {
    "collapsed": true
   },
   "outputs": [],
   "source": [
    "# We test the classifier by doing Euclidean distance and then taking the nearest neighbour\n",
    "def test_Model(w_TestLDA, w_TrainLDA, k):\n",
    "    miss_Class = []\n",
    "    \n",
    "    for i in range(w_TestLDA.shape[1]):\n",
    "        sel_TestWeights = w_TestLDA[:k, i]\n",
    "        err = np.sqrt(np.sum(np.square(w_TrainLDA[:k] - sel_TestWeights[:, np.newaxis]), axis = 0))\n",
    "\n",
    "        idx = np.argsort(err)\n",
    "\n",
    "        if idx[0] >= i*9 and idx[0] <= (i*9)+8:\n",
    "            miss_Class.append(0)\n",
    "        else:\n",
    "            miss_Class.append(1)\n",
    "    \n",
    "    count = sum(miss_Class)\n",
    "    percent = (1 - count/w_TestLDA.shape[1])*100\n",
    "    return percent"
   ]
  },
  {
   "cell_type": "code",
   "execution_count": 214,
   "metadata": {
    "scrolled": false
   },
   "outputs": [
    {
     "data": {
      "text/plain": [
       "<matplotlib.text.Text at 0x23c81345278>"
      ]
     },
     "execution_count": 214,
     "metadata": {},
     "output_type": "execute_result"
    },
    {
     "data": {
      "image/png": "[encoded data removed]",
      "text/plain": [
       "<matplotlib.figure.Figure at 0x23c81424198>"
      ]
     },
     "metadata": {},
     "output_type": "display_data"
    }
   ],
   "source": [
    "# Plot the correct classification \n",
    "percent_Corr = []\n",
    "\n",
    "for k in range(1,40):\n",
    "    percent_Corr.append(test_Model(w_TestLDA, w_TrainLDA, k))\n",
    "\n",
    "xi = [i for i in range(len(percent_Corr))]\n",
    "plt.plot(xi, percent_Corr)\n",
    "plt.title('Percent Correct Classification With LDA Using Varying Dimensions')\n",
    "plt.xlabel('Dimensions')\n",
    "plt.ylabel('Correct Classification (%)')"
   ]
  },
  {
   "cell_type": "markdown",
   "metadata": {},
   "source": [
    "The classification is signicficantly better than PCA, especially at the higher dimensions, with a correct classification of 90%. Classification is quite bad below 5 dimensions."
   ]
  }
 ],
 "metadata": {
  "kernelspec": {
   "display_name": "Python 3",
   "language": "python",
   "name": "python3"
  },
  "language_info": {
   "codemirror_mode": {
    "name": "ipython",
    "version": 3
   },
   "file_extension": ".py",
   "mimetype": "text/x-python",
   "name": "python",
   "nbconvert_exporter": "python",
   "pygments_lexer": "ipython3",
   "version": "3.6.1"
  }
 },
 "nbformat": 4,
 "nbformat_minor": 2
}
