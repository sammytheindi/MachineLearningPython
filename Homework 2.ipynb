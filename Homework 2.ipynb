{
 "cells": [
  {
   "cell_type": "markdown",
   "metadata": {},
   "source": [
    "# Question 1"
   ]
  },
  {
   "cell_type": "code",
   "execution_count": 6,
   "metadata": {
    "collapsed": true
   },
   "outputs": [],
   "source": [
    "%matplotlib inline\n",
    "import matplotlib.pyplot as plt\n",
    "import numpy as np\n",
    "import seaborn as sns; sns.set()\n",
    "import cv2\n",
    "import scipy as sp\n",
    "import os\n",
    "from matplotlib import pyplot as plt\n",
    "from matplotlib import animation\n",
    "from JSAnimation import IPython_display\n",
    "import sklearn\n",
    "from sklearn import decomposition\n",
    "from sklearn import datasets\n",
    "from sklearn import linear_model\n",
    "import re\n",
    "import collections"
   ]
  },
  {
   "cell_type": "code",
   "execution_count": 7,
   "metadata": {
    "collapsed": true
   },
   "outputs": [],
   "source": [
    "# Define functions to reorder class files, using RE module\n",
    "def tryint(s):\n",
    "    try:\n",
    "        return int(s)\n",
    "    except:\n",
    "        return s\n",
    "\n",
    "def alphanum_key(s):\n",
    "    return [ tryint(c) for c in re.split('([0-9]+)', s) ]\n",
    "\n",
    "def sort_nicely(l):\n",
    "    l.sort(key=alphanum_key)"
   ]
  },
  {
   "cell_type": "code",
   "execution_count": 8,
   "metadata": {
    "collapsed": true
   },
   "outputs": [],
   "source": [
    "# Read training data\n",
    "path = 'C:/Users/samya/Documents/HW2_submission/HW2_submission/Problem/Data/Train'\n",
    "\n",
    "all_files = os.listdir(path)   # imagine you're one directory above test dir\n",
    "txt_files = filter(lambda x: x[-4:] == '.txt', all_files)\n",
    "txt_files =[files for files in txt_files]\n",
    "sort_nicely(txt_files)\n",
    "\n",
    "len_Class = []\n",
    "i_Vec = []\n",
    "for file in txt_files:\n",
    "    src = os.path.join(path, file)\n",
    "\n",
    "    file = open(src, 'r')\n",
    "    contents = file.read()\n",
    "    i_VecTemp = contents.splitlines()\n",
    "    len_Class.append(len(i_VecTemp))\n",
    "    file.close()\n",
    "    for i in i_VecTemp:\n",
    "        temp = i.split()\n",
    "        i_Vec.append(temp)\n",
    "    \n",
    "i_Vec = np.transpose(np.array(i_Vec))\n",
    "i_Vec = i_Vec.astype(dtype = 'float32')"
   ]
  },
  {
   "cell_type": "code",
   "execution_count": 9,
   "metadata": {},
   "outputs": [
    {
     "data": {
      "text/plain": [
       "['Class_1.txt',\n",
       " 'Class_2.txt',\n",
       " 'Class_3.txt',\n",
       " 'Class_4.txt',\n",
       " 'Class_5.txt',\n",
       " 'Class_6.txt',\n",
       " 'Class_7.txt',\n",
       " 'Class_8.txt',\n",
       " 'Class_9.txt',\n",
       " 'Class_10.txt',\n",
       " 'Class_11.txt',\n",
       " 'Class_12.txt',\n",
       " 'Class_13.txt',\n",
       " 'Class_14.txt',\n",
       " 'Class_15.txt',\n",
       " 'Class_16.txt',\n",
       " 'Class_17.txt',\n",
       " 'Class_18.txt',\n",
       " 'Class_19.txt',\n",
       " 'Class_20.txt',\n",
       " 'Class_21.txt',\n",
       " 'Class_22.txt',\n",
       " 'Class_23.txt',\n",
       " 'Class_24.txt']"
      ]
     },
     "execution_count": 9,
     "metadata": {},
     "output_type": "execute_result"
    }
   ],
   "source": [
    "txt_files"
   ]
  },
  {
   "cell_type": "code",
   "execution_count": 10,
   "metadata": {},
   "outputs": [
    {
     "data": {
      "text/plain": [
       "[1572,\n",
       " 1708,\n",
       " 100,\n",
       " 7326,\n",
       " 55,\n",
       " 100,\n",
       " 800,\n",
       " 633,\n",
       " 359,\n",
       " 960,\n",
       " 680,\n",
       " 100,\n",
       " 1820,\n",
       " 800,\n",
       " 100,\n",
       " 100,\n",
       " 1174,\n",
       " 100,\n",
       " 1425,\n",
       " 80,\n",
       " 681,\n",
       " 747,\n",
       " 249,\n",
       " 822]"
      ]
     },
     "execution_count": 10,
     "metadata": {},
     "output_type": "execute_result"
    }
   ],
   "source": [
    "# Lengths of the various classes \n",
    "len_Class"
   ]
  },
  {
   "cell_type": "code",
   "execution_count": 11,
   "metadata": {},
   "outputs": [
    {
     "data": {
      "text/plain": [
       "array([ 1572,  3280,  3380, 10706, 10761, 10861, 11661, 12294, 12653,\n",
       "       13613, 14293, 14393, 16213, 17013, 17113, 17213, 18387, 18487,\n",
       "       19912, 19992, 20673, 21420, 21669, 22491], dtype=int32)"
      ]
     },
     "execution_count": 11,
     "metadata": {},
     "output_type": "execute_result"
    }
   ],
   "source": [
    "len_ClassSum = np.cumsum(len_Class)\n",
    "len_ClassSum"
   ]
  },
  {
   "cell_type": "code",
   "execution_count": 12,
   "metadata": {},
   "outputs": [
    {
     "name": "stdout",
     "output_type": "stream",
     "text": [
      "(600, 22491)\n"
     ]
    }
   ],
   "source": [
    "d1, d2 = i_Vec.shape\n",
    "print(i_Vec.shape)"
   ]
  },
  {
   "cell_type": "code",
   "execution_count": 13,
   "metadata": {
    "collapsed": true
   },
   "outputs": [],
   "source": [
    "# Normalize the i vectors\n",
    "i_VecN = np.sqrt(np.sum(np.square(i_Vec), axis = 0))\n",
    "i_VecNorm = i_Vec/i_VecN[np.newaxis, :]"
   ]
  },
  {
   "cell_type": "code",
   "execution_count": 14,
   "metadata": {
    "collapsed": true
   },
   "outputs": [],
   "source": [
    "# Calculate global mean\n",
    "global_Mean = np.mean(i_VecNorm, axis = 1)\n",
    "\n",
    "# Calculate local means\n",
    "local_Mean = np.zeros(shape = (d1, len(len_Class)))\n",
    "for i in range(0, len(len_Class)):\n",
    "    temp_1 = np.mean(i_VecNorm[:, len_ClassSum[i] - len_Class[i]:len_ClassSum[i]], axis = 1)\n",
    "    local_Mean[:,i] = temp_1"
   ]
  },
  {
   "cell_type": "code",
   "execution_count": 15,
   "metadata": {},
   "outputs": [
    {
     "data": {
      "text/plain": [
       "(600,)"
      ]
     },
     "execution_count": 15,
     "metadata": {},
     "output_type": "execute_result"
    }
   ],
   "source": [
    "global_Mean.shape"
   ]
  },
  {
   "cell_type": "code",
   "execution_count": 16,
   "metadata": {
    "collapsed": true
   },
   "outputs": [],
   "source": [
    "# Calculate Intra-Class Scatter\n",
    "intra_Class = np.zeros(shape = (d1, d1))\n",
    "\n",
    "for i in range(0, len(len_Class)):\n",
    "    temp_iVec = i_VecNorm[:, len_ClassSum[i] - len_Class[i]:len_ClassSum[i]] - local_Mean[:, i][:, np.newaxis]\n",
    "    temp = np.matmul(temp_iVec, np.transpose(temp_iVec))\n",
    "    intra_Class = intra_Class + temp"
   ]
  },
  {
   "cell_type": "code",
   "execution_count": 17,
   "metadata": {},
   "outputs": [
    {
     "data": {
      "text/plain": [
       "(600, 600)"
      ]
     },
     "execution_count": 17,
     "metadata": {},
     "output_type": "execute_result"
    }
   ],
   "source": [
    "intra_Class.shape"
   ]
  },
  {
   "cell_type": "code",
   "execution_count": 18,
   "metadata": {
    "collapsed": true
   },
   "outputs": [],
   "source": [
    "# Calculate Inter-Class Scatter \n",
    "inter_Class = np.zeros(shape = (d1, d1))\n",
    "\n",
    "for i in range(len(len_Class)):\n",
    "    temp_iVec = local_Mean[:,i][:, np.newaxis] - global_Mean[:, np.newaxis]\n",
    "    temp = np.matmul(i_Vec, np.transpose(i_Vec))\n",
    "    temp = len_Class[i]*temp\n",
    "    inter_Class = inter_Class + temp"
   ]
  },
  {
   "cell_type": "code",
   "execution_count": 19,
   "metadata": {},
   "outputs": [
    {
     "data": {
      "text/plain": [
       "(600, 600)"
      ]
     },
     "execution_count": 19,
     "metadata": {},
     "output_type": "execute_result"
    }
   ],
   "source": [
    "inter_Class.shape"
   ]
  },
  {
   "cell_type": "code",
   "execution_count": 20,
   "metadata": {
    "collapsed": true
   },
   "outputs": [],
   "source": [
    "# Solving Generalized eigenvector problem\n",
    "V,D = sp.sparse.linalg.eigs(inter_Class, k = 23, M = intra_Class)\n",
    "V = np.real(V)"
   ]
  },
  {
   "cell_type": "code",
   "execution_count": 21,
   "metadata": {},
   "outputs": [
    {
     "data": {
      "text/plain": [
       "<Container object of 23 artists>"
      ]
     },
     "execution_count": 21,
     "metadata": {},
     "output_type": "execute_result"
    },
    {
     "data": {
      "image/png": "[encoded data removed]",
      "text/plain": [
       "<matplotlib.figure.Figure at 0x18702bc29b0>"
      ]
     },
     "metadata": {},
     "output_type": "display_data"
    }
   ],
   "source": [
    "xi = [i for i in range(len(V))]\n",
    "plt.bar(xi, V)"
   ]
  },
  {
   "cell_type": "code",
   "execution_count": 22,
   "metadata": {},
   "outputs": [
    {
     "data": {
      "text/plain": [
       "(600, 23)"
      ]
     },
     "execution_count": 22,
     "metadata": {},
     "output_type": "execute_result"
    }
   ],
   "source": [
    "D.shape"
   ]
  },
  {
   "cell_type": "code",
   "execution_count": 23,
   "metadata": {},
   "outputs": [
    {
     "data": {
      "text/plain": [
       "(23, 22491)"
      ]
     },
     "execution_count": 23,
     "metadata": {},
     "output_type": "execute_result"
    }
   ],
   "source": [
    "#Projecting i-vectors onto the LDA matrix space\n",
    "proj_iVec = np.matmul(np.transpose(D), i_VecNorm)\n",
    "proj_iVec = np.real(proj_iVec)\n",
    "proj_iVec.shape"
   ]
  },
  {
   "cell_type": "code",
   "execution_count": 24,
   "metadata": {
    "collapsed": true
   },
   "outputs": [],
   "source": [
    "# Length normalize projected eigenvectors\n",
    "proj_iVecNorm = proj_iVec/(np.sqrt(np.sum(np.square(proj_iVec), axis = 0)))[np.newaxis, :]"
   ]
  },
  {
   "cell_type": "code",
   "execution_count": 25,
   "metadata": {
    "collapsed": true
   },
   "outputs": [],
   "source": [
    "# Compute local means again\n",
    "local_MeanProj = np.zeros(shape = (len(len_Class) - 1, len(len_Class)))\n",
    "for i in range(0, len(len_Class)):\n",
    "    temp_1 = np.mean(proj_iVec[:, len_ClassSum[i] - len_Class[i]:len_ClassSum[i]], axis = 1)\n",
    "    local_MeanProj[:,i] = temp_1"
   ]
  },
  {
   "cell_type": "code",
   "execution_count": 26,
   "metadata": {},
   "outputs": [
    {
     "data": {
      "text/plain": [
       "(23, 24)"
      ]
     },
     "execution_count": 26,
     "metadata": {},
     "output_type": "execute_result"
    }
   ],
   "source": [
    "local_MeanProj.shape"
   ]
  },
  {
   "cell_type": "code",
   "execution_count": 27,
   "metadata": {
    "collapsed": true
   },
   "outputs": [],
   "source": [
    "# Normalize the local means\n",
    "local_MeanProjNorm = local_MeanProj/(np.sqrt(np.sum(np.square(local_MeanProj), axis = 0)))[np.newaxis, :]"
   ]
  },
  {
   "cell_type": "markdown",
   "metadata": {
    "collapsed": true
   },
   "source": [
    "## Classifier Testing"
   ]
  },
  {
   "cell_type": "code",
   "execution_count": 28,
   "metadata": {
    "collapsed": true
   },
   "outputs": [],
   "source": [
    "# Import the data from test folder\n",
    "path = 'C:/Users/samya/Documents/HW2_submission/HW2_submission/Problem/Data/Eval'\n",
    "\n",
    "all_files = os.listdir(path)   # imagine you're one directory above test dir\n",
    "txt_files = filter(lambda x: x[-4:] == '.txt', all_files)\n",
    "txt_files =[files for files in txt_files]\n",
    "sort_nicely(txt_files)\n",
    "\n",
    "len_ClassEval = []\n",
    "i_VecEval = []\n",
    "for file in txt_files:\n",
    "    src = os.path.join(path, file)\n",
    "\n",
    "    file = open(src, 'r')\n",
    "    contents = file.read()\n",
    "    i_VecTemp = contents.splitlines()\n",
    "    len_ClassEval.append(len(i_VecTemp))\n",
    "    file.close()\n",
    "    for i in i_VecTemp:\n",
    "        temp = i.split()\n",
    "        i_VecEval.append(temp)\n",
    "    \n",
    "i_VecEval = np.transpose(np.array(i_VecEval))\n",
    "i_VecEval = i_VecEval.astype(dtype = 'float32')"
   ]
  },
  {
   "cell_type": "code",
   "execution_count": 29,
   "metadata": {},
   "outputs": [
    {
     "data": {
      "text/plain": [
       "array([ 100,  200,  300,  400,  500,  600,  700,  800,  900, 1000, 1100,\n",
       "       1200, 1300, 1400, 1500, 1600, 1700, 1800, 1900, 2000, 2100, 2200,\n",
       "       2300, 2400], dtype=int32)"
      ]
     },
     "execution_count": 29,
     "metadata": {},
     "output_type": "execute_result"
    }
   ],
   "source": [
    "len_ClassEvalSum = np.cumsum(len_ClassEval)\n",
    "len_ClassEvalSum"
   ]
  },
  {
   "cell_type": "code",
   "execution_count": 30,
   "metadata": {},
   "outputs": [
    {
     "data": {
      "text/plain": [
       "(600, 2400)"
      ]
     },
     "execution_count": 30,
     "metadata": {},
     "output_type": "execute_result"
    }
   ],
   "source": [
    "i_VecEval.shape"
   ]
  },
  {
   "cell_type": "code",
   "execution_count": 31,
   "metadata": {
    "collapsed": true
   },
   "outputs": [],
   "source": [
    "# Project onto LDA subspace and normalize\n",
    "proj_iVecEval = np.matmul(np.transpose(D), i_VecEval)\n",
    "proj_iVecEvalNorm = proj_iVecEval/(np.sqrt(np.sum(np.square(proj_iVecEval), axis = 0)))[np.newaxis, :]"
   ]
  },
  {
   "cell_type": "code",
   "execution_count": 32,
   "metadata": {},
   "outputs": [
    {
     "data": {
      "text/plain": [
       "(23, 2400)"
      ]
     },
     "execution_count": 32,
     "metadata": {},
     "output_type": "execute_result"
    }
   ],
   "source": [
    "proj_iVecEvalNorm.shape"
   ]
  },
  {
   "cell_type": "code",
   "execution_count": 33,
   "metadata": {},
   "outputs": [
    {
     "data": {
      "text/plain": [
       "(24, 2400)"
      ]
     },
     "execution_count": 33,
     "metadata": {},
     "output_type": "execute_result"
    }
   ],
   "source": [
    "# Calculate scores of all ivectors\n",
    "scores_Eval = np.transpose(np.matmul(np.transpose(proj_iVecEvalNorm), local_MeanProjNorm))\n",
    "scores_Eval.shape"
   ]
  },
  {
   "cell_type": "code",
   "execution_count": 34,
   "metadata": {},
   "outputs": [
    {
     "data": {
      "text/plain": [
       "[84,\n",
       " 63,\n",
       " 80,\n",
       " 86,\n",
       " 72,\n",
       " 23,\n",
       " 85,\n",
       " 98,\n",
       " 52,\n",
       " 88,\n",
       " 53,\n",
       " 75,\n",
       " 99,\n",
       " 54,\n",
       " 75,\n",
       " 53,\n",
       " 99,\n",
       " 46,\n",
       " 95,\n",
       " 60,\n",
       " 32,\n",
       " 90,\n",
       " 8,\n",
       " 38]"
      ]
     },
     "execution_count": 34,
     "metadata": {},
     "output_type": "execute_result"
    }
   ],
   "source": [
    "true_Class = []\n",
    "for i in range(len(len_ClassSum)):\n",
    "    c = collections.Counter(scores_Eval[:, len_ClassEvalSum[i] - len_ClassEval[i]:len_ClassEvalSum[i]].argmax(0))\n",
    "    true_Class.append(c[i])\n",
    "    \n",
    "true_Class"
   ]
  },
  {
   "cell_type": "code",
   "execution_count": 35,
   "metadata": {},
   "outputs": [
    {
     "data": {
      "text/plain": [
       "67.0"
      ]
     },
     "execution_count": 35,
     "metadata": {},
     "output_type": "execute_result"
    }
   ],
   "source": [
    "# Calculating total correct classification\n",
    "(np.sum(true_Class)/len_ClassEvalSum[-1])*100"
   ]
  },
  {
   "cell_type": "code",
   "execution_count": 36,
   "metadata": {
    "collapsed": true
   },
   "outputs": [],
   "source": [
    "def LDA_iVec(path):\n",
    "    all_files = os.listdir(path)   # imagine you're one directory above test dir\n",
    "    txt_files = filter(lambda x: x[-4:] == '.txt', all_files)\n",
    "    txt_files =[files for files in txt_files]\n",
    "    sort_nicely(txt_files)\n",
    "\n",
    "    len_ClassEval = []\n",
    "    i_VecEval = []\n",
    "    for file in txt_files:\n",
    "        src = os.path.join(path, file)\n",
    "\n",
    "        file = open(src, 'r')\n",
    "        contents = file.read()\n",
    "        i_VecTemp = contents.splitlines()\n",
    "        len_ClassEval.append(len(i_VecTemp))\n",
    "        file.close()\n",
    "        for i in i_VecTemp:\n",
    "            temp = i.split()\n",
    "            i_VecEval.append(temp)\n",
    "\n",
    "    i_VecEval = np.transpose(np.array(i_VecEval))\n",
    "    i_VecEval = i_VecEval.astype(dtype = 'float32')\n",
    "    \n",
    "    len_ClassEvalSum = np.cumsum(len_ClassEval)\n",
    "    \n",
    "    proj_iVecEval = np.matmul(np.transpose(D), i_VecEval)\n",
    "    proj_iVecEvalNorm = proj_iVecEval/(np.sqrt(np.sum(np.square(proj_iVecEval), axis = 0)))[np.newaxis, :]\n",
    "    \n",
    "    scores_Eval = np.transpose(np.matmul(np.transpose(proj_iVecEvalNorm), local_MeanProjNorm))\n",
    "    \n",
    "    true_Class = []\n",
    "    for i in range(len(len_ClassSum)):\n",
    "        c = collections.Counter(scores_Eval[:, len_ClassEvalSum[i] - len_ClassEval[i]:len_ClassEvalSum[i]].argmax(0))\n",
    "        true_Class.append(c[i])\n",
    "    \n",
    "    return (np.sum(true_Class)/len_ClassEvalSum[-1])*100"
   ]
  },
  {
   "cell_type": "code",
   "execution_count": 37,
   "metadata": {},
   "outputs": [
    {
     "data": {
      "text/plain": [
       "67.0"
      ]
     },
     "execution_count": 37,
     "metadata": {},
     "output_type": "execute_result"
    }
   ],
   "source": [
    "LDA_iVec('C:/Users/samya/Documents/HW2_submission/HW2_submission/Problem/Data/Eval')"
   ]
  },
  {
   "cell_type": "code",
   "execution_count": 38,
   "metadata": {},
   "outputs": [
    {
     "data": {
      "text/plain": [
       "80.208333333333343"
      ]
     },
     "execution_count": 38,
     "metadata": {},
     "output_type": "execute_result"
    }
   ],
   "source": [
    "LDA_iVec('C:/Users/samya/Documents/HW2_submission/HW2_submission/Problem/Data/Dev')"
   ]
  },
  {
   "cell_type": "markdown",
   "metadata": {},
   "source": [
    "# Question 2"
   ]
  },
  {
   "cell_type": "code",
   "execution_count": 39,
   "metadata": {
    "collapsed": true
   },
   "outputs": [],
   "source": [
    "# Load Training Data into large Matrix as before\n",
    "path = 'C:/Users/samya/Documents/HW2_submission/HW2_submission/Problem/Data/Train'\n",
    "\n",
    "all_files = os.listdir(path)   # imagine you're one directory above test dir\n",
    "txt_files = filter(lambda x: x[-4:] == '.txt', all_files)\n",
    "txt_files =[files for files in txt_files]\n",
    "sort_nicely(txt_files)\n",
    "\n",
    "len_Class = []\n",
    "i_Vec = []\n",
    "for file in txt_files:\n",
    "    src = os.path.join(path, file)\n",
    "\n",
    "    file = open(src, 'r')\n",
    "    contents = file.read()\n",
    "    i_VecTemp = contents.splitlines()\n",
    "    len_Class.append(len(i_VecTemp))\n",
    "    file.close()\n",
    "    for i in i_VecTemp:\n",
    "        temp = i.split()\n",
    "        i_Vec.append(temp)\n",
    "    \n",
    "i_Vec = np.transpose(np.array(i_Vec))\n",
    "i_Vec = i_Vec.astype(dtype = 'float32')"
   ]
  },
  {
   "cell_type": "code",
   "execution_count": 42,
   "metadata": {},
   "outputs": [
    {
     "data": {
      "text/plain": [
       "(600, 22491)"
      ]
     },
     "execution_count": 42,
     "metadata": {},
     "output_type": "execute_result"
    }
   ],
   "source": [
    "i_Vec.shape"
   ]
  },
  {
   "cell_type": "code",
   "execution_count": 84,
   "metadata": {},
   "outputs": [],
   "source": [
    "d1, d2 = i_VecEval.shape"
   ]
  },
  {
   "cell_type": "code",
   "execution_count": null,
   "metadata": {},
   "outputs": [],
   "source": [
    "clf = linear_model.Lasso(alpha = 0.1)\n",
    "\n",
    "w_Lasso = []\n",
    "for i in range(d2):\n",
    "    clf.fit(i_Vec, i_VecEval[:,i])\n",
    "    w_Lasso.append(clf.coef_)\n"
   ]
  },
  {
   "cell_type": "code",
   "execution_count": 89,
   "metadata": {},
   "outputs": [
    {
     "data": {
      "text/plain": [
       "[array([ 0., -0., -0., ..., -0.,  0.,  0.], dtype=float32)]"
      ]
     },
     "execution_count": 89,
     "metadata": {},
     "output_type": "execute_result"
    }
   ],
   "source": []
  }
 ],
 "metadata": {
  "kernelspec": {
   "display_name": "Python 3",
   "language": "python",
   "name": "python3"
  },
  "language_info": {
   "codemirror_mode": {
    "name": "ipython",
    "version": 3
   },
   "file_extension": ".py",
   "mimetype": "text/x-python",
   "name": "python",
   "nbconvert_exporter": "python",
   "pygments_lexer": "ipython3",
   "version": "3.6.1"
  }
 },
 "nbformat": 4,
 "nbformat_minor": 2
}
